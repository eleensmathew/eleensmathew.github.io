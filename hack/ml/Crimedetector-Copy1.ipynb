{
 "cells": [
  {
   "cell_type": "code",
   "execution_count": 1,
   "id": "e5b3706e-7b18-4369-b534-d2c8d73db9e4",
   "metadata": {},
   "outputs": [],
   "source": [
    "import keras\n",
    "import cv2\n",
    "import tensorflow as tf\n",
    "import numpy as np\n",
    "import matplotlib.pyplot as plt\n",
    "import pandas as pd\n",
    "from keras.preprocessing.image import ImageDataGenerator\n",
    "from keras.models import Model\n",
    "from keras.layers import Dense,Flatten\n",
    "from keras.applications.inception_v3 import InceptionV3,preprocess_input\n",
    "from PIL import ImageFile\n",
    "from tensorflow.keras.utils import load_img,img_to_array\n",
    "ImageFile.LOAD_TRUNCATED_IMAGES = True"
   ]
  },
  {
   "cell_type": "code",
   "execution_count": 1,
   "id": "3426cc6a",
   "metadata": {},
   "outputs": [
    {
     "ename": "ModuleNotFoundError",
     "evalue": "No module named 'face_recognition'",
     "output_type": "error",
     "traceback": [
      "\u001b[1;31m---------------------------------------------------------------------------\u001b[0m",
      "\u001b[1;31mModuleNotFoundError\u001b[0m                       Traceback (most recent call last)",
      "Input \u001b[1;32mIn [1]\u001b[0m, in \u001b[0;36m<cell line: 1>\u001b[1;34m()\u001b[0m\n\u001b[1;32m----> 1\u001b[0m \u001b[38;5;28;01mimport\u001b[39;00m \u001b[38;5;21;01mface_recognition\u001b[39;00m\n",
      "\u001b[1;31mModuleNotFoundError\u001b[0m: No module named 'face_recognition'"
     ]
    }
   ],
   "source": [
    "import face_recognition"
   ]
  },
  {
   "cell_type": "code",
   "execution_count": 2,
   "id": "962dba3c",
   "metadata": {},
   "outputs": [],
   "source": [
    "#for guns\n",
    "base_model=InceptionV3(input_shape=(256,256,3),include_top=False)\n",
    "for layer in base_model.layers:\n",
    "    layer.trainable=False\n",
    "x=Flatten()(base_model.output)\n",
    "x=Dense(units=2,activation='sigmoid')(x)\n",
    "model=Model(base_model.input,x)\n",
    "model.compile(optimizer='adam',loss=keras.losses.binary_crossentropy,metrics=['accuracy'])"
   ]
  },
  {
   "cell_type": "code",
   "execution_count": 3,
   "id": "ff109f5f",
   "metadata": {},
   "outputs": [
    {
     "name": "stdout",
     "output_type": "stream",
     "text": [
      "Found 478 images belonging to 2 classes.\n"
     ]
    }
   ],
   "source": [
    "train_datagen=ImageDataGenerator(featurewise_center=True,rotation_range=0.05,width_shift_range=0.05,horizontal_flip=True,preprocessing_function=preprocess_input,zoom_range=0.1,shear_range=0.1)\n",
    "train_data=train_datagen.flow_from_directory(directory=r'C:\\Users\\Acer\\OneDrive\\Desktop\\hack36\\gundataset',target_size=(256,256),batch_size=20)"
   ]
  },
  {
   "cell_type": "code",
   "execution_count": 13,
   "id": "b7408bf6",
   "metadata": {},
   "outputs": [
    {
     "name": "stderr",
     "output_type": "stream",
     "text": [
      "C:\\Users\\Acer\\AppData\\Local\\Temp\\ipykernel_11348\\2233005565.py:2: UserWarning: `Model.fit_generator` is deprecated and will be removed in a future version. Please use `Model.fit`, which supports generators.\n",
      "  model.fit_generator(train_data,steps_per_epoch=15,epochs=15)\n"
     ]
    },
    {
     "name": "stdout",
     "output_type": "stream",
     "text": [
      "Epoch 1/15\n",
      "15/15 [==============================] - 37s 2s/step - loss: 0.0253 - accuracy: 0.9966\n",
      "Epoch 2/15\n",
      "15/15 [==============================] - 34s 2s/step - loss: 0.0355 - accuracy: 1.0000\n",
      "Epoch 3/15\n",
      "15/15 [==============================] - 34s 2s/step - loss: 0.0257 - accuracy: 0.9967\n",
      "Epoch 4/15\n",
      "15/15 [==============================] - 34s 2s/step - loss: 0.0306 - accuracy: 0.9967\n",
      "Epoch 5/15\n",
      "15/15 [==============================] - 34s 2s/step - loss: 0.0502 - accuracy: 0.9933\n",
      "Epoch 6/15\n",
      "15/15 [==============================] - 35s 2s/step - loss: 0.0361 - accuracy: 1.0000\n",
      "Epoch 7/15\n",
      "15/15 [==============================] - 33s 2s/step - loss: 0.0359 - accuracy: 0.9966\n",
      "Epoch 8/15\n",
      "15/15 [==============================] - 36s 2s/step - loss: 0.0162 - accuracy: 0.9967\n",
      "Epoch 9/15\n",
      "15/15 [==============================] - 33s 2s/step - loss: 0.0774 - accuracy: 0.9899\n",
      "Epoch 10/15\n",
      "15/15 [==============================] - 35s 2s/step - loss: 0.0212 - accuracy: 1.0000\n",
      "Epoch 11/15\n",
      "15/15 [==============================] - 34s 2s/step - loss: 0.0213 - accuracy: 0.9967\n",
      "Epoch 12/15\n",
      "15/15 [==============================] - 35s 2s/step - loss: 0.1855 - accuracy: 0.9867\n",
      "Epoch 13/15\n",
      "15/15 [==============================] - 36s 2s/step - loss: 0.2622 - accuracy: 0.9866\n",
      "Epoch 14/15\n",
      "15/15 [==============================] - 43s 3s/step - loss: 0.1400 - accuracy: 0.9899\n",
      "Epoch 15/15\n",
      "15/15 [==============================] - 40s 3s/step - loss: 0.0301 - accuracy: 0.9966\n"
     ]
    },
    {
     "data": {
      "text/plain": [
       "<keras.callbacks.History at 0x1efb5d27bb0>"
      ]
     },
     "execution_count": 13,
     "metadata": {},
     "output_type": "execute_result"
    }
   ],
   "source": [
    "#for guns\n",
    "model.fit_generator(train_data,steps_per_epoch=15,epochs=15)"
   ]
  },
  {
   "cell_type": "code",
   "execution_count": 15,
   "id": "1b0f88d2",
   "metadata": {},
   "outputs": [
    {
     "name": "stdout",
     "output_type": "stream",
     "text": [
      "1/1 [==============================] - 0s 112ms/step\n"
     ]
    },
    {
     "data": {
      "text/plain": [
       "array([[0.99998415, 0.99998343]], dtype=float32)"
      ]
     },
     "execution_count": 15,
     "metadata": {},
     "output_type": "execute_result"
    }
   ],
   "source": [
    "#put the image path here:-\n",
    "path=r\"C:\\Users\\Acer\\OneDrive\\Pictures\\Screenshots\\2023-03-21 (2).png\"\n",
    "img=load_img(path,target_size=(256,256))\n",
    "i=img_to_array(img)\n",
    "i=preprocess_input(i)\n",
    "#if 0 then no gun if 1 then gun\n",
    "model.predict(np.array([i]))"
   ]
  },
  {
   "cell_type": "code",
   "execution_count": null,
   "id": "6530e843",
   "metadata": {},
   "outputs": [],
   "source": []
  }
 ],
 "metadata": {
  "kernelspec": {
   "display_name": "Python 3 (ipykernel)",
   "language": "python",
   "name": "python3"
  },
  "language_info": {
   "codemirror_mode": {
    "name": "ipython",
    "version": 3
   },
   "file_extension": ".py",
   "mimetype": "text/x-python",
   "name": "python",
   "nbconvert_exporter": "python",
   "pygments_lexer": "ipython3",
   "version": "3.9.12"
  }
 },
 "nbformat": 4,
 "nbformat_minor": 5
}
