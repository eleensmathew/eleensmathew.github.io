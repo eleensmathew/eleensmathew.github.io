{
 "cells": [
  {
   "cell_type": "code",
   "execution_count": 1,
   "id": "e5b3706e-7b18-4369-b534-d2c8d73db9e4",
   "metadata": {},
   "outputs": [],
   "source": [
    "import keras\n",
    "import cv2\n",
    "import tensorflow as tf\n",
    "import numpy as np\n",
    "import matplotlib.pyplot as plt\n",
    "import pandas as pd\n",
    "from keras.preprocessing.image import ImageDataGenerator\n",
    "from keras.models import Model\n",
    "from keras.layers import Dense,Flatten\n",
    "from keras.applications.inception_v3 import InceptionV3,preprocess_input\n",
    "from PIL import ImageFile\n",
    "from tensorflow.keras.utils import load_img,img_to_array\n",
    "ImageFile.LOAD_TRUNCATED_IMAGES = True"
   ]
  },
  {
   "cell_type": "code",
   "execution_count": 2,
   "id": "962dba3c",
   "metadata": {},
   "outputs": [],
   "source": [
    "#for guns\n",
    "base_model=InceptionV3(input_shape=(256,256,3),include_top=False)\n",
    "for layer in base_model.layers:\n",
    "    layer.trainable=False\n",
    "x=Flatten()(base_model.output)\n",
    "x=Dense(units=3,activation='sigmoid')(x)\n",
    "model=Model(base_model.input,x)\n",
    "model.compile(optimizer='adam',loss=keras.losses.binary_crossentropy,metrics=['accuracy'])"
   ]
  },
  {
   "cell_type": "code",
   "execution_count": 3,
   "id": "ff109f5f",
   "metadata": {},
   "outputs": [
    {
     "name": "stdout",
     "output_type": "stream",
     "text": [
      "Found 727 images belonging to 3 classes.\n"
     ]
    }
   ],
   "source": [
    "train_datagen=ImageDataGenerator(featurewise_center=True,rotation_range=0.05,width_shift_range=0.05,horizontal_flip=True,preprocessing_function=preprocess_input,zoom_range=0.1,shear_range=0.1)\n",
    "train_data=train_datagen.flow_from_directory(directory=r'C:\\Users\\Acer\\OneDrive\\Desktop\\hack36\\gundataset',target_size=(256,256),batch_size=20)"
   ]
  },
  {
   "cell_type": "code",
   "execution_count": 6,
   "id": "b7408bf6",
   "metadata": {},
   "outputs": [
    {
     "name": "stderr",
     "output_type": "stream",
     "text": [
      "C:\\Users\\Acer\\AppData\\Local\\Temp\\ipykernel_14804\\1037262057.py:2: UserWarning: `Model.fit_generator` is deprecated and will be removed in a future version. Please use `Model.fit`, which supports generators.\n",
      "  model.fit_generator(train_data,steps_per_epoch=15,epochs=20)\n"
     ]
    },
    {
     "name": "stdout",
     "output_type": "stream",
     "text": [
      "Epoch 1/20\n",
      "15/15 [==============================] - 28s 2s/step - loss: 0.5225 - accuracy: 0.9600\n",
      "Epoch 2/20\n",
      "15/15 [==============================] - 33s 2s/step - loss: 0.2697 - accuracy: 0.9767\n",
      "Epoch 3/20\n",
      "15/15 [==============================] - 31s 2s/step - loss: 0.1814 - accuracy: 0.9667\n",
      "Epoch 4/20\n",
      "15/15 [==============================] - 31s 2s/step - loss: 0.2058 - accuracy: 0.9686\n",
      "Epoch 5/20\n",
      "15/15 [==============================] - 32s 2s/step - loss: 0.1532 - accuracy: 0.9721\n",
      "Epoch 6/20\n",
      "15/15 [==============================] - 34s 2s/step - loss: 0.1215 - accuracy: 0.9833\n",
      "Epoch 7/20\n",
      "15/15 [==============================] - 33s 2s/step - loss: 0.1094 - accuracy: 0.9833\n",
      "Epoch 8/20\n",
      "15/15 [==============================] - 32s 2s/step - loss: 0.0658 - accuracy: 0.9933\n",
      "Epoch 9/20\n",
      "15/15 [==============================] - 32s 2s/step - loss: 0.0705 - accuracy: 0.9967\n",
      "Epoch 10/20\n",
      "15/15 [==============================] - 31s 2s/step - loss: 0.0409 - accuracy: 0.9933\n",
      "Epoch 11/20\n",
      "15/15 [==============================] - 30s 2s/step - loss: 0.0559 - accuracy: 0.9861\n",
      "Epoch 12/20\n",
      "15/15 [==============================] - 31s 2s/step - loss: 0.0680 - accuracy: 0.9867\n",
      "Epoch 13/20\n",
      "15/15 [==============================] - 31s 2s/step - loss: 0.0715 - accuracy: 0.9933\n",
      "Epoch 14/20\n",
      "15/15 [==============================] - 32s 2s/step - loss: 0.0943 - accuracy: 0.9867\n",
      "Epoch 15/20\n",
      "15/15 [==============================] - 32s 2s/step - loss: 0.0254 - accuracy: 1.0000\n",
      "Epoch 16/20\n",
      "15/15 [==============================] - 32s 2s/step - loss: 0.0106 - accuracy: 1.0000\n",
      "Epoch 17/20\n",
      "15/15 [==============================] - 32s 2s/step - loss: 0.0205 - accuracy: 0.9967\n",
      "Epoch 18/20\n",
      "15/15 [==============================] - 31s 2s/step - loss: 0.0334 - accuracy: 0.9967\n",
      "Epoch 19/20\n",
      "15/15 [==============================] - 32s 2s/step - loss: 0.0734 - accuracy: 0.9967\n",
      "Epoch 20/20\n",
      "15/15 [==============================] - 30s 2s/step - loss: 0.1263 - accuracy: 0.9930\n"
     ]
    },
    {
     "data": {
      "text/plain": [
       "<keras.callbacks.History at 0x21151e72760>"
      ]
     },
     "execution_count": 6,
     "metadata": {},
     "output_type": "execute_result"
    }
   ],
   "source": [
    "#for guns\n",
    "model.fit_generator(train_data,steps_per_epoch=15,epochs=20)"
   ]
  },
  {
   "cell_type": "code",
   "execution_count": 12,
   "id": "22c009ff",
   "metadata": {},
   "outputs": [
    {
     "name": "stdout",
     "output_type": "stream",
     "text": [
      "Requirement already satisfied: pyyaml in c:\\users\\acer\\anaconda3\\lib\\site-packages (6.0)\n",
      "Requirement already satisfied: h5py in c:\\users\\acer\\anaconda3\\lib\\site-packages (3.6.0)\n",
      "Requirement already satisfied: numpy>=1.14.5 in c:\\users\\acer\\anaconda3\\lib\\site-packages (from h5py) (1.22.4)\n"
     ]
    }
   ],
   "source": [
    "\n",
    "model.save(r'C:\\Users\\Acer\\OneDrive\\Desktop\\hack36\\Crimedetector.h5')"
   ]
  },
  {
   "cell_type": "code",
   "execution_count": 22,
   "id": "1b0f88d2",
   "metadata": {},
   "outputs": [
    {
     "name": "stdout",
     "output_type": "stream",
     "text": [
      "1/1 [==============================] - 0s 128ms/step\n"
     ]
    },
    {
     "data": {
      "text/plain": [
       "array([[3.6967729e-16, 1.0000000e+00, 1.5963925e-03]], dtype=float32)"
      ]
     },
     "execution_count": 22,
     "metadata": {},
     "output_type": "execute_result"
    }
   ],
   "source": [
    "#put the image path here:-\n",
    "path=r\"C:\\Users\\Acer\\OneDrive\\Pictures\\Screenshots\\2023-03-21.png\"\n",
    "img=load_img(path,target_size=(256,256))\n",
    "i=img_to_array(img)\n",
    "i=preprocess_input(i)\n",
    "#if 0 then no gun if 1 then gun\n",
    "model.predict(np.array([i]))"
   ]
  },
  {
   "cell_type": "code",
   "execution_count": null,
   "id": "6530e843",
   "metadata": {},
   "outputs": [],
   "source": []
  }
 ],
 "metadata": {
  "kernelspec": {
   "display_name": "Python 3 (ipykernel)",
   "language": "python",
   "name": "python3"
  },
  "language_info": {
   "codemirror_mode": {
    "name": "ipython",
    "version": 3
   },
   "file_extension": ".py",
   "mimetype": "text/x-python",
   "name": "python",
   "nbconvert_exporter": "python",
   "pygments_lexer": "ipython3",
   "version": "3.9.12"
  }
 },
 "nbformat": 4,
 "nbformat_minor": 5
}
