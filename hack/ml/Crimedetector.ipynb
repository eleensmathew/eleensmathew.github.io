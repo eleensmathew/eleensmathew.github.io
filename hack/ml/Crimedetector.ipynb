{
 "cells": [
  {
   "cell_type": "code",
   "execution_count": 1,
   "id": "e5b3706e-7b18-4369-b534-d2c8d73db9e4",
   "metadata": {},
   "outputs": [],
   "source": [
    "import keras\n",
    "import cv2\n",
    "import tensorflow as tf\n",
    "import numpy as np\n",
    "import matplotlib.pyplot as plt\n",
    "import pandas as pd\n",
    "from keras.preprocessing.image import ImageDataGenerator\n",
    "from keras.models import Model\n",
    "from keras.layers import Dense,Flatten\n",
    "from keras.applications.inception_v3 import InceptionV3,preprocess_input\n",
    "from PIL import ImageFile\n",
    "from tensorflow.keras.utils import load_img,img_to_array\n",
    "ImageFile.LOAD_TRUNCATED_IMAGES = True"
   ]
  },
  {
   "cell_type": "code",
   "execution_count": 2,
   "id": "962dba3c",
   "metadata": {},
   "outputs": [],
   "source": [
    "#for guns\n",
    "base_model=InceptionV3(input_shape=(256,256,3),include_top=False)\n",
    "for layer in base_model.layers:\n",
    "    layer.trainable=False\n",
    "x=Flatten()(base_model.output)\n",
    "x=Dense(units=3,activation='sigmoid')(x)\n",
    "model=Model(base_model.input,x)\n",
    "model.compile(optimizer='adam',loss=keras.losses.binary_crossentropy,metrics=['accuracy'])"
   ]
  },
  {
   "cell_type": "code",
   "execution_count": 3,
   "id": "ff109f5f",
   "metadata": {},
   "outputs": [
    {
     "name": "stdout",
     "output_type": "stream",
     "text": [
      "Found 727 images belonging to 3 classes.\n"
     ]
    }
   ],
   "source": [
    "train_datagen=ImageDataGenerator(featurewise_center=True,rotation_range=0.05,width_shift_range=0.05,horizontal_flip=True,preprocessing_function=preprocess_input,zoom_range=0.1,shear_range=0.1)\n",
    "train_data=train_datagen.flow_from_directory(directory=r'C:\\Users\\Acer\\OneDrive\\Desktop\\hack36\\gundataset',target_size=(256,256),batch_size=20)"
   ]
  },
  {
   "cell_type": "code",
   "execution_count": null,
   "id": "b7408bf6",
   "metadata": {},
   "outputs": [
    {
     "name": "stderr",
     "output_type": "stream",
     "text": [
      "C:\\Users\\Acer\\AppData\\Local\\Temp\\ipykernel_1424\\1037262057.py:2: UserWarning: `Model.fit_generator` is deprecated and will be removed in a future version. Please use `Model.fit`, which supports generators.\n",
      "  model.fit_generator(train_data,steps_per_epoch=15,epochs=20)\n",
      "C:\\Users\\Acer\\anaconda3\\lib\\site-packages\\keras\\preprocessing\\image.py:1663: UserWarning: This ImageDataGenerator specifies `featurewise_center`, but it hasn't been fit on any training data. Fit it first by calling `.fit(numpy_data)`.\n",
      "  warnings.warn('This ImageDataGenerator specifies '\n"
     ]
    },
    {
     "name": "stdout",
     "output_type": "stream",
     "text": [
      "Epoch 1/20\n",
      "15/15 [==============================] - 56s 2s/step - loss: 2.1696 - accuracy: 0.6967\n",
      "Epoch 2/20\n",
      "15/15 [==============================] - 30s 2s/step - loss: 0.7206 - accuracy: 0.8667\n",
      "Epoch 3/20\n",
      "15/15 [==============================] - 33s 2s/step - loss: 0.4190 - accuracy: 0.9167\n",
      "Epoch 4/20\n",
      "15/15 [==============================] - 33s 2s/step - loss: 0.4277 - accuracy: 0.9129\n",
      "Epoch 5/20\n",
      "15/15 [==============================] - 33s 2s/step - loss: 0.2809 - accuracy: 0.9267\n",
      "Epoch 6/20\n",
      "15/15 [==============================] - 35s 2s/step - loss: 0.1711 - accuracy: 0.9582\n",
      "Epoch 7/20\n",
      "15/15 [==============================] - 40s 3s/step - loss: 0.1726 - accuracy: 0.9600\n",
      "Epoch 8/20\n",
      "15/15 [==============================] - 38s 2s/step - loss: 0.1777 - accuracy: 0.9721\n",
      "Epoch 9/20\n",
      "15/15 [==============================] - 39s 2s/step - loss: 0.0693 - accuracy: 0.9900\n",
      "Epoch 10/20\n",
      "15/15 [==============================] - 36s 2s/step - loss: 0.1104 - accuracy: 0.9791\n",
      "Epoch 11/20\n",
      "15/15 [==============================] - 37s 2s/step - loss: 0.0727 - accuracy: 0.9861\n",
      "Epoch 12/20\n",
      "15/15 [==============================] - 36s 2s/step - loss: 0.0875 - accuracy: 0.9895\n",
      "Epoch 13/20\n",
      "15/15 [==============================] - 38s 3s/step - loss: 0.2563 - accuracy: 0.9533\n",
      "Epoch 14/20\n",
      "15/15 [==============================] - 38s 2s/step - loss: 0.2384 - accuracy: 0.9600\n",
      "Epoch 15/20\n",
      "15/15 [==============================] - 39s 3s/step - loss: 0.1327 - accuracy: 0.9767\n",
      "Epoch 16/20\n",
      "15/15 [==============================] - 38s 3s/step - loss: 0.1073 - accuracy: 0.9895\n",
      "Epoch 17/20\n",
      "15/15 [==============================] - 38s 2s/step - loss: 0.0492 - accuracy: 0.9900\n",
      "Epoch 18/20\n",
      " 5/15 [=========>....................] - ETA: 23s - loss: 0.1101 - accuracy: 0.9800"
     ]
    }
   ],
   "source": [
    "#for guns\n",
    "model.fit_generator(train_data,steps_per_epoch=15,epochs=20)"
   ]
  },
  {
   "cell_type": "code",
   "execution_count": 15,
   "id": "1b0f88d2",
   "metadata": {},
   "outputs": [
    {
     "name": "stdout",
     "output_type": "stream",
     "text": [
      "1/1 [==============================] - 0s 112ms/step\n"
     ]
    },
    {
     "data": {
      "text/plain": [
       "array([[0.99998415, 0.99998343]], dtype=float32)"
      ]
     },
     "execution_count": 15,
     "metadata": {},
     "output_type": "execute_result"
    }
   ],
   "source": [
    "#put the image path here:-\n",
    "path=r\"C:\\Users\\Acer\\OneDrive\\Pictures\\Screenshots\\2023-03-21 (2).png\"\n",
    "img=load_img(path,target_size=(256,256))\n",
    "i=img_to_array(img)\n",
    "i=preprocess_input(i)\n",
    "#if 0 then no gun if 1 then gun\n",
    "model.predict(np.array([i]))"
   ]
  },
  {
   "cell_type": "code",
   "execution_count": null,
   "id": "6530e843",
   "metadata": {},
   "outputs": [],
   "source": []
  }
 ],
 "metadata": {
  "kernelspec": {
   "display_name": "Python 3 (ipykernel)",
   "language": "python",
   "name": "python3"
  },
  "language_info": {
   "codemirror_mode": {
    "name": "ipython",
    "version": 3
   },
   "file_extension": ".py",
   "mimetype": "text/x-python",
   "name": "python",
   "nbconvert_exporter": "python",
   "pygments_lexer": "ipython3",
   "version": "3.9.12"
  }
 },
 "nbformat": 4,
 "nbformat_minor": 5
}
